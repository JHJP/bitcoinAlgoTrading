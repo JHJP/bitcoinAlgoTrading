{
 "cells": [
  {
   "cell_type": "code",
   "execution_count": 1,
   "metadata": {},
   "outputs": [],
   "source": [
    "from keys import access_key, secret_key\n",
    "import jwt  # PyJWT\n",
    "import uuid\n",
    "import websocket  # websocket-client"
   ]
  },
  {
   "cell_type": "code",
   "execution_count": 2,
   "metadata": {},
   "outputs": [
    {
     "name": "stdout",
     "output_type": "stream",
     "text": [
      "connected!\n",
      "\n",
      "closed!\n"
     ]
    },
    {
     "data": {
      "text/plain": [
       "True"
      ]
     },
     "execution_count": 2,
     "metadata": {},
     "output_type": "execute_result"
    }
   ],
   "source": [
    "# Authentication Progress\n",
    "\n",
    "def on_message(ws, message):\n",
    "    # do something\n",
    "    data = message.decode('utf-8')\n",
    "    print(data)\n",
    "\n",
    "\n",
    "def on_connect(ws):\n",
    "    print(\"connected!\")\n",
    "    # Request after connection\n",
    "    ws.send('[{\"ticket\":\"test example\"},{\"type\":\"myTrade\"}]')\n",
    "\n",
    "\n",
    "def on_error(ws, err):\n",
    "    print(err)\n",
    "\n",
    "\n",
    "def on_close(ws, status_code, msg):\n",
    "    print(\"closed!\")\n",
    "\n",
    "\n",
    "payload = {\n",
    "    'access_key': access_key,\n",
    "    'nonce': str(uuid.uuid4()),\n",
    "}\n",
    "\n",
    "jwt_token = jwt.encode(payload, secret_key)\n",
    "authorization_token = 'Bearer {}'.format(jwt_token)\n",
    "headers = {\"Authorization\": authorization_token}\n",
    "\n",
    "ws_app = websocket.WebSocketApp(\"wss://api.upbit.com/websocket/v1\",\n",
    "                                header=headers,\n",
    "                                on_message=on_message,\n",
    "                                on_open=on_connect,\n",
    "                                on_error=on_error,\n",
    "                                on_close=on_close)\n",
    "ws_app.run_forever()"
   ]
  },
  {
   "cell_type": "code",
   "execution_count": null,
   "metadata": {},
   "outputs": [],
   "source": []
  }
 ],
 "metadata": {
  "kernelspec": {
   "display_name": "Python 3",
   "language": "python",
   "name": "python3"
  },
  "language_info": {
   "codemirror_mode": {
    "name": "ipython",
    "version": 3
   },
   "file_extension": ".py",
   "mimetype": "text/x-python",
   "name": "python",
   "nbconvert_exporter": "python",
   "pygments_lexer": "ipython3",
   "version": "3.9.6"
  }
 },
 "nbformat": 4,
 "nbformat_minor": 2
}
